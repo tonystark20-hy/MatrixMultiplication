{
 "cells": [
  {
   "cell_type": "markdown",
   "metadata": {},
   "source": [
    "## Import pyspark"
   ]
  },
  {
   "cell_type": "code",
   "execution_count": null,
   "metadata": {},
   "outputs": [],
   "source": [
    "#!/usr/bin/env python\n",
    "# coding: utf-8\n",
    "from pyspark import SparkConf, SparkContext\n",
    "import pyspark"
   ]
  },
  {
   "cell_type": "markdown",
   "metadata": {},
   "source": [
    "## Mapper\n",
    "\n",
    "* mapper會一行一行讀取input，傳入function裡的值是line\n",
    "* input的格式是(**M, i, j, value**)和(**N, j, k, value**)\n",
    "* MN相乘時，我們會將j相同的值相乘(M : i*j, N : j*k)\n",
    "* 在第一個mapper當中，我們把key設為j，value設為(**M, i, value**)和(**N, k, value**)\n",
    "* 放在同一個list裡面後，回傳處理完成的資料格式"
   ]
  },
  {
   "cell_type": "code",
   "execution_count": null,
   "metadata": {},
   "outputs": [],
   "source": [
    "def Mapper(line):\n",
    "    M = []\n",
    "    dataValue = line.strip('\\n').split(',')\n",
    "    if(dataValue[0]=='M'):          \n",
    "        M.append((int(dataValue[2]), ('M', int(dataValue[1]), int(dataValue[3]))))\n",
    "    elif(dataValue[0]=='N'):\n",
    "        M.append((int(dataValue[1]), ('N', int(dataValue[2]), int(dataValue[3]))))\n",
    "\n",
    "    return M"
   ]
  },
  {
   "cell_type": "markdown",
   "metadata": {},
   "source": [
    "* 第二個mapper則是用來相乘的\n",
    "* P為MN相乘後的矩陣(P = MN)，所以P的大小為i*k的矩陣\n",
    "* 我們將(**M, i, value1**)和(**N, k, value2**)處理成(**(i, k), value1*value2**)後回傳"
   ]
  },
  {
   "cell_type": "code",
   "execution_count": null,
   "metadata": {},
   "outputs": [],
   "source": [
    "def Mapper1(line):\n",
    "    P = []\n",
    "    \n",
    "    for i in range(500):\n",
    "        for k in range(500):\n",
    "            P.append(((i, k), (line[1][i][2]*line[1][k+500][2])))\n",
    "            \n",
    "    return P"
   ]
  },
  {
   "cell_type": "markdown",
   "metadata": {},
   "source": [
    "## Reducer\n",
    "\n",
    "* 在此次作業，我們只需將key相同的資料加起來，所以只需要將value相加的reducer即可"
   ]
  },
  {
   "cell_type": "code",
   "execution_count": null,
   "metadata": {},
   "outputs": [],
   "source": [
    "def Reducer(x, y):\n",
    "    return x+y"
   ]
  },
  {
   "cell_type": "markdown",
   "metadata": {},
   "source": [
    "# Report\n",
    "\n",
    "* 讀進input(500input.txt)\n",
    "* 用第一個mapper將資料轉成(M, i, value)和(N, k, value)\n",
    "* 用reducer把key一樣的value append到後面\n",
    "* 因為要用append所以中間先將value轉為list，轉完後用reducer操作list相加即為append"
   ]
  },
  {
   "cell_type": "code",
   "execution_count": null,
   "metadata": {},
   "outputs": [],
   "source": [
    "conf = SparkConf().setAppName(\"matrix\")\n",
    "sc = SparkContext(conf=conf)\n",
    "assert sc.version >= '1.5.1'\n",
    "lines = sc.textFile(\"500input.txt\").flatMap(Mapper).map(lambda nameTuple: (nameTuple[0], [ nameTuple[1] ])).reduceByKey(Reducer)\n",
    "print(lines.collect())\n",
    "# print(lines.collect())\n",
    "# value = lines.combineByKey(to_list, append, extend)\n",
    "# def to_list(a):\n",
    "#     return [a]"
   ]
  },
  {
   "cell_type": "markdown",
   "metadata": {},
   "source": [
    "* 用第二個mapper相乘之後，資料會變成(**(i, k), value**)\n",
    "* 用reducer把同一個位置(key)的值相加後，即可得到相乘後的矩陣"
   ]
  },
  {
   "cell_type": "code",
   "execution_count": null,
   "metadata": {},
   "outputs": [],
   "source": [
    "result = lines.flatMap(Mapper1).reduceByKey(Reducer)\n",
    "sort = sorted(result.collect())\n",
    "print(sort)"
   ]
  },
  {
   "cell_type": "markdown",
   "metadata": {},
   "source": [
    "* 最後將結果寫上Outputfile.txt就完成了"
   ]
  },
  {
   "cell_type": "code",
   "execution_count": null,
   "metadata": {},
   "outputs": [],
   "source": [
    "f = open('Outputfile.txt', 'w')\n",
    "\n",
    "for i in range(500*500):\n",
    "    f.write(str(int(i/500))+','+str(i%500)+','+str(sort[i][1])+'\\n')\n",
    "        \n",
    "f.close()\n",
    "sc.stop()"
   ]
  }
 ],
 "metadata": {
  "kernelspec": {
   "display_name": "Python 3",
   "language": "python",
   "name": "python3"
  },
  "language_info": {
   "codemirror_mode": {
    "name": "ipython",
    "version": 3
   },
   "file_extension": ".py",
   "mimetype": "text/x-python",
   "name": "python",
   "nbconvert_exporter": "python",
   "pygments_lexer": "ipython3",
   "version": "3.6.8"
  }
 },
 "nbformat": 4,
 "nbformat_minor": 2
}
